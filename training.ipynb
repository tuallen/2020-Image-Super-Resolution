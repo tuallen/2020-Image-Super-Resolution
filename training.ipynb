{
 "cells": [
  {
   "cell_type": "code",
   "execution_count": null,
   "metadata": {
    "id": "mPSpMY2beGLk"
   },
   "outputs": [],
   "source": [
    "import tensorflow as tf\n",
    "from data import DataGenerator\n",
    "from model import espcn, psnr\n",
    "from training import train\n",
    "\n",
    "r = 3 # Upscale Factor\n",
    "batch_size = 10\n",
    "epochs = 100\n",
    "\n",
    "# Compile model\n",
    "opt = tf.keras.optimizers.Adam(learning_rate=0.001)\n",
    "# Peak Signal-to-Noise Ratio\n",
    "def PSNR(y_true, y_pred):\n",
    "    max_pixel = 1.0\n",
    "    return tf.image.psnr(y_true, y_pred, max_val=max_pixel)\n",
    "model = espcn(r)\n",
    "model.compile(optimizer=opt, loss='mse', metrics=[PSNR])\n",
    "model.summary()"
   ]
  },
  {
   "cell_type": "code",
   "execution_count": null,
   "metadata": {
    "colab": {
     "base_uri": "https://localhost:8080/"
    },
    "id": "qx8G7mC39DaX",
    "outputId": "d9494454-351b-4d5b-8ec7-dbf2e2086bb9"
   },
   "outputs": [],
   "source": [
    "# Fit model.\n",
    "train(model, r, batch_size, epochs)\n",
    "# Weights are saved to 'model/weights/r[r]bs[batch_size]epochs[epochs]weights.h5'"
   ]
  }
 ],
 "metadata": {
  "accelerator": "GPU",
  "colab": {
   "collapsed_sections": [],
   "name": "training.ipynb",
   "provenance": []
  },
  "kernelspec": {
   "display_name": "Python 3",
   "language": "python",
   "name": "python3"
  },
  "language_info": {
   "codemirror_mode": {
    "name": "ipython",
    "version": 3
   },
   "file_extension": ".py",
   "mimetype": "text/x-python",
   "name": "python",
   "nbconvert_exporter": "python",
   "pygments_lexer": "ipython3",
   "version": "3.6.12"
  }
 },
 "nbformat": 4,
 "nbformat_minor": 4
}
