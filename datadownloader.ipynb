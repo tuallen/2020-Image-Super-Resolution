{
 "cells": [
  {
   "cell_type": "code",
   "execution_count": 76,
   "metadata": {},
   "outputs": [],
   "source": [
    "import requests, os, zipfile, stat, re\n",
    "\n",
    "data_directory = 'data'"
   ]
  },
  {
   "cell_type": "code",
   "execution_count": 64,
   "metadata": {},
   "outputs": [],
   "source": [
    "# Downloads files from Google Drive. \n",
    "def download_google(id, destination):\n",
    "    URL = 'https://docs.google.com/uc?export=download'\n",
    "\n",
    "    session = requests.Session()\n",
    "\n",
    "    response = session.get(URL, params = { 'id' : id }, stream = True)\n",
    "    token = get_confirm_token(response)\n",
    "\n",
    "    if token:\n",
    "        params = { 'id' : id, 'confirm' : token }\n",
    "        response = session.get(URL, params = params, stream = True)\n",
    "\n",
    "    save_response_content(response, destination)    \n",
    "    \n",
    "# Gets token\n",
    "def get_confirm_token(response):\n",
    "    for key, value in response.cookies.items():\n",
    "        if key.startswith('download_warning'):\n",
    "            return value\n",
    "\n",
    "    return None\n",
    "\n",
    "# Writes chunks\n",
    "def save_response_content(response, destination):\n",
    "    CHUNK_SIZE = 32768\n",
    "\n",
    "    with open(destination, \"wb\") as f:\n",
    "        for chunk in response.iter_content(CHUNK_SIZE):\n",
    "            if chunk: # filter out keep-alive new chunks\n",
    "                f.write(chunk)\n",
    "                \n",
    "# Downloads files from url\n",
    "def download_url(url, save_path, chunk_size=128):\n",
    "    r = requests.get(url, stream=True)\n",
    "    with open(save_path, 'wb') as fd:\n",
    "        for chunk in r.iter_content(chunk_size=chunk_size):\n",
    "            fd.write(chunk)\n",
    "            \n",
    "# Downloads files from url\n",
    "def download_url(url, save_path):\n",
    "    r = requests.get(url, stream=True)\n",
    "    with open(save_path, 'wb') as fd:\n",
    "        for chunk in r.iter_content():\n",
    "            fd.write(chunk)"
   ]
  },
  {
   "cell_type": "code",
   "execution_count": 64,
   "metadata": {},
   "outputs": [],
   "source": [
    "# 'DatasetName' : 'File ID'\n",
    "classical_SR_datasets = {\n",
    "    'BSDS100': '1EWEsfsgElkNvOcJwZLDe2TeDIMhr6SpH',\n",
    "    'BSDS200': '1hIYAIODXT6GksNuk0EHiwgnVxZlDHUAI',\n",
    "    'General100': '1Y4R8STXyPcOOykutbAJpMsH5O5n2NdFF',\n",
    "    'historical': '17Rq-4gm1_rJX3KB2jolcqMGWiSSmQIWz',\n",
    "    'manga109': '15cAVM4BJtSGpduLufqDqfQV75m-Pfepi',\n",
    "    'Set5': '1RtyIeUFTyW8u7oa4z7a0lSzT3T1FwZE9',\n",
    "    'Set14': '1vsw07sV8wGrRQ8UARe2fO5jjgy9QJy_E',\n",
    "    'T91': '1dfsToAYgecVARKjw2wtQS5tsn6pzG6pr',\n",
    "    'urban100': '1XaY-tnBP_z21WKgOCeXBa9r-KJyBMbgZ'\n",
    "}\n",
    "\n",
    "# Make data directory\n",
    "if not os.path.isdir(data_directory):\n",
    "    os.mkdir(data_directory)\n",
    "\n",
    "# Download and unzip all classical SR datasets\n",
    "for dataset in classical_SR_datasets:\n",
    "    dataset_directory = data_directory + '/' + dataset\n",
    "    if os.path.isdir(dataset_directory):\n",
    "        print(dataset_directory + ' already exists.')\n",
    "    else:\n",
    "        # Download .zip files from Google Drive\n",
    "        file_id = datasets[dataset]\n",
    "        zip_path = data_directory + '/' + dataset + '.zip'\n",
    "        if not os.path.isfile(dataset + '.zip'):\n",
    "            print(\"Downloading \" + dataset + '.zip')\n",
    "            download_google(file_id, zip_path)\n",
    "        # Unzip .zip files\n",
    "        print(\"Unzipping \" + dataset + '.zip')\n",
    "        with zipfile.ZipFile(zip_path, 'r') as zip_ref:\n",
    "            zip_ref.extractall(data_directory)\n",
    "        # Delete .zip file\n",
    "        print(\"Deleting \" + dataset + '.zip')\n",
    "        os.remove(zip_path)\n",
    "    print()"
   ]
  },
  {
   "cell_type": "code",
   "execution_count": 68,
   "metadata": {},
   "outputs": [
    {
     "name": "stdout",
     "output_type": "stream",
     "text": [
      "Downloading DIV2K_train_LR_bicubic_X2.zip\n",
      "Unzipping DIV2K_train_LR_bicubic_X2.zip\n",
      "Deleting DIV2K_train_LR_bicubic_X2.zip\n",
      "\n",
      "Downloading DIV2K_train_LR_bicubic_X3.zip\n",
      "Unzipping DIV2K_train_LR_bicubic_X3.zip\n",
      "Deleting DIV2K_train_LR_bicubic_X3.zip\n",
      "\n",
      "Downloading DIV2K_train_LR_bicubic_X4.zip\n",
      "Unzipping DIV2K_train_LR_bicubic_X4.zip\n",
      "Deleting DIV2K_train_LR_bicubic_X4.zip\n",
      "\n",
      "Downloading DIV2K_train_LR_unknown_X2.zip\n",
      "Unzipping DIV2K_train_LR_unknown_X2.zip\n",
      "Deleting DIV2K_train_LR_unknown_X2.zip\n",
      "\n",
      "Downloading DIV2K_train_LR_unknown_X3.zip\n",
      "Unzipping DIV2K_train_LR_unknown_X3.zip\n",
      "Deleting DIV2K_train_LR_unknown_X3.zip\n",
      "\n",
      "Downloading DIV2K_train_LR_unknown_X4.zip\n",
      "Unzipping DIV2K_train_LR_unknown_X4.zip\n",
      "Deleting DIV2K_train_LR_unknown_X4.zip\n",
      "\n",
      "Downloading DIV2K_valid_LR_bicubic_X2.zip\n",
      "Unzipping DIV2K_valid_LR_bicubic_X2.zip\n",
      "Deleting DIV2K_valid_LR_bicubic_X2.zip\n",
      "\n",
      "Downloading DIV2K_valid_LR_bicubic_X3.zip\n",
      "Unzipping DIV2K_valid_LR_bicubic_X3.zip\n",
      "Deleting DIV2K_valid_LR_bicubic_X3.zip\n",
      "\n",
      "Downloading DIV2K_valid_LR_bicubic_X4.zip\n",
      "Unzipping DIV2K_valid_LR_bicubic_X4.zip\n",
      "Deleting DIV2K_valid_LR_bicubic_X4.zip\n",
      "\n",
      "Downloading DIV2K_valid_LR_unknown_X2.zip\n",
      "Unzipping DIV2K_valid_LR_unknown_X2.zip\n",
      "Deleting DIV2K_valid_LR_unknown_X2.zip\n",
      "\n",
      "Downloading DIV2K_valid_LR_unknown_X3.zip\n",
      "Unzipping DIV2K_valid_LR_unknown_X3.zip\n",
      "Deleting DIV2K_valid_LR_unknown_X3.zip\n",
      "\n",
      "Downloading DIV2K_valid_LR_unknown_X4.zip\n",
      "Unzipping DIV2K_valid_LR_unknown_X4.zip\n",
      "Deleting DIV2K_valid_LR_unknown_X4.zip\n",
      "\n",
      "data/DIV2K/DIV2K_train_HR already exists.\n",
      "\n",
      "Downloading DIV2K_valid_HR.zip\n",
      "Unzipping DIV2K_valid_HR.zip\n",
      "Deleting DIV2K_valid_HR.zip\n",
      "\n"
     ]
    }
   ],
   "source": [
    "# List of DIV2K dataset names\n",
    "div2k_datasets = ['DIV2K_train_LR_bicubic_X2', 'DIV2K_train_LR_bicubic_X3', 'DIV2K_train_LR_bicubic_X4',\n",
    "                  'DIV2K_train_LR_unknown_X2', 'DIV2K_train_LR_unknown_X3', 'DIV2K_train_LR_unknown_X4',\n",
    "                  'DIV2K_valid_LR_bicubic_X2', 'DIV2K_valid_LR_bicubic_X3', 'DIV2K_valid_LR_bicubic_X4',\n",
    "                  'DIV2K_valid_LR_unknown_X2', 'DIV2K_valid_LR_unknown_X3', 'DIV2K_valid_LR_unknown_X4', \n",
    "                  'DIV2K_train_HR', 'DIV2K_valid_HR']     \n",
    "\n",
    "# Make DIV2K directory\n",
    "div2k_directory = data_directory + '/' + 'DIV2K'\n",
    "if not os.path.isdir(div2k_directory):\n",
    "    os.mkdir(div2k_directory)\n",
    "\n",
    "# Downloads and unzips DIV2K dataset\n",
    "for dataset in div2k_datasets:\n",
    "    # Check if directory already exists\n",
    "    dataset_search = re.search(r'(DIV2K_(train|valid)_LR_(bicubic|unknown))_(X[2,3,4])', dataset)\n",
    "    if dataset_search:\n",
    "        # LR scale\n",
    "        dataset_path = div2k_directory + '/' + dataset_search[1] + '/' + dataset_search[4]\n",
    "    else:\n",
    "        # HR\n",
    "        dataset_path = div2k_directory + '/' + dataset\n",
    "    if os.path.isdir(dataset_path):\n",
    "        print(dataset_path + ' already exists.')\n",
    "    else:\n",
    "        # Download .zip files from DIV2K website\n",
    "        zip_path = div2k_directory + '/' + dataset + '.zip'\n",
    "        if not os.path.isfile(zip_path):\n",
    "            url = 'http://data.vision.ee.ethz.ch/cvl/DIV2K/' + dataset + '.zip'\n",
    "            print('Downloading ' + dataset + '.zip')\n",
    "            download_url(url, zip_path)\n",
    "        # Unzip .zip files\n",
    "        print(\"Unzipping \" + dataset + '.zip')\n",
    "        with zipfile.ZipFile(zip_path, 'r') as zip_ref:\n",
    "            zip_ref.extractall(div2k_directory)\n",
    "        # Delete .zip file\n",
    "        print(\"Deleting \" + dataset + '.zip')\n",
    "        os.remove(zip_path)\n",
    "    print()"
   ]
  },
  {
   "cell_type": "code",
   "execution_count": 78,
   "metadata": {},
   "outputs": [
    {
     "name": "stdout",
     "output_type": "stream",
     "text": [
      "Finished. Running datachecker.py...\n"
     ]
    },
    {
     "ename": "AttributeError",
     "evalue": "module 'datachecker' has no attribute 'checker'",
     "output_type": "error",
     "traceback": [
      "\u001b[1;31m---------------------------------------------------------------------------\u001b[0m",
      "\u001b[1;31mAttributeError\u001b[0m                            Traceback (most recent call last)",
      "\u001b[1;32m<ipython-input-78-47199e93b2f0>\u001b[0m in \u001b[0;36m<module>\u001b[1;34m\u001b[0m\n\u001b[0;32m      1\u001b[0m \u001b[0mprint\u001b[0m\u001b[1;33m(\u001b[0m\u001b[1;34m\"Finished. Running datachecker.py...\"\u001b[0m\u001b[1;33m)\u001b[0m\u001b[1;33m\u001b[0m\u001b[1;33m\u001b[0m\u001b[0m\n\u001b[0;32m      2\u001b[0m \u001b[1;32mimport\u001b[0m \u001b[0mdatachecker\u001b[0m\u001b[1;33m\u001b[0m\u001b[1;33m\u001b[0m\u001b[0m\n\u001b[1;32m----> 3\u001b[1;33m \u001b[0mdatachecker\u001b[0m\u001b[1;33m.\u001b[0m\u001b[0mchecker\u001b[0m\u001b[1;33m(\u001b[0m\u001b[1;36m0\u001b[0m\u001b[1;33m)\u001b[0m\u001b[1;33m\u001b[0m\u001b[1;33m\u001b[0m\u001b[0m\n\u001b[0m",
      "\u001b[1;31mAttributeError\u001b[0m: module 'datachecker' has no attribute 'checker'"
     ]
    }
   ],
   "source": [
    "print(\"Finished. Running datachecker.py...\")\n",
    "import datachecker\n",
    "datachecker.checker(verbose = 0)"
   ]
  },
  {
   "cell_type": "code",
   "execution_count": 81,
   "metadata": {},
   "outputs": [
    {
     "ename": "ImportError",
     "evalue": "cannot import name 'plustwo'",
     "output_type": "error",
     "traceback": [
      "\u001b[1;31m---------------------------------------------------------------------------\u001b[0m",
      "\u001b[1;31mImportError\u001b[0m                               Traceback (most recent call last)",
      "\u001b[1;32m<ipython-input-81-1589262b0d06>\u001b[0m in \u001b[0;36m<module>\u001b[1;34m\u001b[0m\n\u001b[1;32m----> 1\u001b[1;33m \u001b[1;32mfrom\u001b[0m \u001b[0mtest\u001b[0m \u001b[1;32mimport\u001b[0m \u001b[0mplustwo\u001b[0m\u001b[1;33m\u001b[0m\u001b[1;33m\u001b[0m\u001b[0m\n\u001b[0m\u001b[0;32m      2\u001b[0m \u001b[0mtest\u001b[0m\u001b[1;33m.\u001b[0m\u001b[0mplustwo\u001b[0m\u001b[1;33m(\u001b[0m\u001b[1;36m3\u001b[0m\u001b[1;33m)\u001b[0m\u001b[1;33m\u001b[0m\u001b[1;33m\u001b[0m\u001b[0m\n",
      "\u001b[1;31mImportError\u001b[0m: cannot import name 'plustwo'"
     ]
    }
   ],
   "source": [
    "from test import plustwo\n",
    "test.plustwo(3)"
   ]
  },
  {
   "cell_type": "code",
   "execution_count": null,
   "metadata": {},
   "outputs": [],
   "source": []
  }
 ],
 "metadata": {
  "kernelspec": {
   "display_name": "Python 3",
   "language": "python",
   "name": "python3"
  },
  "language_info": {
   "codemirror_mode": {
    "name": "ipython",
    "version": 3
   },
   "file_extension": ".py",
   "mimetype": "text/x-python",
   "name": "python",
   "nbconvert_exporter": "python",
   "pygments_lexer": "ipython3",
   "version": "3.6.12"
  }
 },
 "nbformat": 4,
 "nbformat_minor": 4
}
