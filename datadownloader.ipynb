{
 "cells": [
  {
   "cell_type": "code",
   "execution_count": 1,
   "metadata": {},
   "outputs": [],
   "source": [
    "import requests, os, zipfile\n",
    "\n",
    "def download_file(id, destination):\n",
    "    URL = 'https://docs.google.com/uc?export=download'\n",
    "\n",
    "    session = requests.Session()\n",
    "\n",
    "    response = session.get(URL, params = { 'id' : id }, stream = True)\n",
    "    token = get_confirm_token(response)\n",
    "\n",
    "    if token:\n",
    "        params = { 'id' : id, 'confirm' : token }\n",
    "        response = session.get(URL, params = params, stream = True)\n",
    "\n",
    "    save_response_content(response, destination)    \n",
    "\n",
    "def get_confirm_token(response):\n",
    "    for key, value in response.cookies.items():\n",
    "        if key.startswith('download_warning'):\n",
    "            return value\n",
    "\n",
    "    return None\n",
    "\n",
    "def save_response_content(response, destination):\n",
    "    CHUNK_SIZE = 32768\n",
    "\n",
    "    with open(destination, \"wb\") as f:\n",
    "        for chunk in response.iter_content(CHUNK_SIZE):\n",
    "            if chunk: # filter out keep-alive new chunks\n",
    "                f.write(chunk)"
   ]
  },
  {
   "cell_type": "code",
   "execution_count": 3,
   "metadata": {},
   "outputs": [],
   "source": [
    "data_directory = 'data2'\n",
    "datasets = {\n",
    "    'BSDS100.zip': '1EWEsfsgElkNvOcJwZLDe2TeDIMhr6SpH',\n",
    "    'BSDS200.zip': '1hIYAIODXT6GksNuk0EHiwgnVxZlDHUAI',\n",
    "    'General100.zip': '1Y4R8STXyPcOOykutbAJpMsH5O5n2NdFF',\n",
    "    'historical.zip': '17Rq-4gm1_rJX3KB2jolcqMGWiSSmQIWz',\n",
    "    'manga109.zip': '15cAVM4BJtSGpduLufqDqfQV75m-Pfepi',\n",
    "    'Set5.zip': '1RtyIeUFTyW8u7oa4z7a0lSzT3T1FwZE9',\n",
    "    'Set14.zip': '1vsw07sV8wGrRQ8UARe2fO5jjgy9QJy_E',\n",
    "    'T91.zip': '1dfsToAYgecVARKjw2wtQS5tsn6pzG6pr',\n",
    "    'urban100.zip': '1XaY-tnBP_z21WKgOCeXBa9r-KJyBMbgZ'\n",
    "}\n",
    "os.mkdir(data_directory)\n",
    "\n",
    "for dataset in datasets:\n",
    "    file_id = datasets[dataset]\n",
    "    file = data_directory + '/' + dataset\n",
    "    print(\"Downloading: \" + dataset)\n",
    "    download_file(file_id, file)\n",
    "    "
   ]
  },
  {
   "cell_type": "code",
   "execution_count": 4,
   "metadata": {},
   "outputs": [],
   "source": []
  },
  {
   "cell_type": "code",
   "execution_count": null,
   "metadata": {},
   "outputs": [],
   "source": []
  }
 ],
 "metadata": {
  "kernelspec": {
   "display_name": "Python 3",
   "language": "python",
   "name": "python3"
  },
  "language_info": {
   "codemirror_mode": {
    "name": "ipython",
    "version": 3
   },
   "file_extension": ".py",
   "mimetype": "text/x-python",
   "name": "python",
   "nbconvert_exporter": "python",
   "pygments_lexer": "ipython3",
   "version": "3.6.12"
  }
 },
 "nbformat": 4,
 "nbformat_minor": 4
}
