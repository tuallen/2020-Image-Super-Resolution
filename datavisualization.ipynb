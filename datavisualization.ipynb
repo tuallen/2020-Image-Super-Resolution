{
 "cells": [
  {
   "cell_type": "code",
   "execution_count": null,
   "metadata": {},
   "outputs": [],
   "source": [
    "import random, os\n",
    "from os import path\n",
    "from IPython.display import Image, display\n",
    "\n",
    "# Filepath of data directory\n",
    "data_path = 'data'"
   ]
  },
  {
   "cell_type": "code",
   "execution_count": null,
   "metadata": {},
   "outputs": [],
   "source": [
    "# Classical SR datasets\n",
    "datasets = ['BSDS100', 'BSDS200', 'General100', 'historical', 'manga109', 'Set5', 'Set14', 'T91', 'urban100']\n",
    "# Scales  \n",
    "scales = ['LRbicx2', 'LRbicx3', 'LRbicx4']\n",
    "\n",
    "# Visualize classical SR datasets\n",
    "for dataset in datasets:\n",
    "    dataset_path = data_path + '/' + dataset\n",
    "    original_path = dataset_path + '/original'\n",
    "    # Print error message and break loop if original directory does not exist. \n",
    "    if not path.exists(original_path):\n",
    "        print('ERROR: ' + original_path + ' does not exist! Run datachecker.py and datascaler.m.')\n",
    "        break\n",
    "    else:\n",
    "        print('DATASET: ' + dataset)\n",
    "        \n",
    "    # Randomly select and print an original image.\n",
    "    image_name = random.choice(os.listdir(original_path))\n",
    "    print('original: ' + image_name)\n",
    "    display(Image(original_path + '/' + image_name))\n",
    "    \n",
    "    # Visualize downscaled images\n",
    "    for scale in scales:\n",
    "        scale_path = dataset_path + '/' + scale\n",
    "        # Print error message if scale does not exist. \n",
    "        if not path.exists(scale_path):\n",
    "            print('ERROR: ' + scale_path + ' does not exist! Run datascaler.m.')\n",
    "            break\n",
    "        image_path = scale_path + '/' + image_name\n",
    "        # Print error message if image does not exist. \n",
    "        if not path.exists(image_path):\n",
    "            print('ERROR: ' + image_path + ' does not exist! Run datascaler.m.')\n",
    "            break\n",
    "        print(scale)\n",
    "        display(Image(image_path))"
   ]
  },
  {
   "cell_type": "code",
   "execution_count": null,
   "metadata": {},
   "outputs": [],
   "source": [
    "# Visualize DIV2K\n",
    "for dataset in ['train', 'valid']:\n",
    "    dataset_path = data_path + '/DIV2k/DIV2K_' + dataset + '_'\n",
    "    hr_path = dataset_path + 'HR'\n",
    "    # Print error message and break loop if original directory does not exist. \n",
    "    if not path.exists(hr_path):\n",
    "        print('ERROR: ' + hr_path + ' does not exist! Run datachecker.py.')\n",
    "        break\n",
    "    print('DATASET: DIV2K_' + dataset)\n",
    "        \n",
    "    # Randomly select and visualize a high resolution image.\n",
    "    hr_name = random.choice(os.listdir(hr_path))\n",
    "    image_name = os.path.splitext(hr_name)[0]\n",
    "    extension = os.path.splitext(hr_name)[1]\n",
    "    print('HR: ' + hr_name)\n",
    "    display(Image(hr_path + '/' + hr_name))\n",
    "    \n",
    "    # Visualize downscaled images\n",
    "    for lr_type in ['LR_bicubic', 'LR_unknown']:\n",
    "        lr_path = dataset_path + lr_type + '/'\n",
    "        for scale in ['X2','X3','X4']:\n",
    "            scale_path = lr_path + scale\n",
    "            image_path = scale_path + '/' + image_name + scale.lower() + extension\n",
    "            print(lr_type + '/' + scale)\n",
    "            display(Image(image_path))"
   ]
  }
 ],
 "metadata": {
  "kernelspec": {
   "display_name": "Python 3",
   "language": "python",
   "name": "python3"
  },
  "language_info": {
   "codemirror_mode": {
    "name": "ipython",
    "version": 3
   },
   "file_extension": ".py",
   "mimetype": "text/x-python",
   "name": "python",
   "nbconvert_exporter": "python",
   "pygments_lexer": "ipython3",
   "version": "3.6.12"
  }
 },
 "nbformat": 4,
 "nbformat_minor": 4
}
