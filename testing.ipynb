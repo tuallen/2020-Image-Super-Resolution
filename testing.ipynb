{
 "cells": [
  {
   "cell_type": "code",
   "execution_count": null,
   "metadata": {},
   "outputs": [],
   "source": [
    "import tensorflow as tf\n",
    "import matplotlib.pyplot as plt\n",
    "from data import DataGenerator\n",
    "from model import espcn, psnr\n",
    "from testing import benchmark\n",
    "import random\n",
    "\n",
    "weights_filename = 'r3bs10epochs100weights.h5' # filepath of weights\n",
    "r = 3 # Upscale Factor\n",
    "\n",
    "# Compile model\n",
    "opt = tf.keras.optimizers.Adam(learning_rate=0.001)\n",
    "# Peak Signal-to-Noise Ratio\n",
    "def PSNR(y_true, y_pred):\n",
    "    max_pixel = 1.0\n",
    "    return tf.image.psnr(y_true, y_pred, max_val=max_pixel)\n",
    "model = espcn(r)\n",
    "model.compile(optimizer=opt, loss='mse', metrics=[PSNR])\n",
    "# Load weights\n",
    "filepath = 'model/weights/' + weights_filename\n",
    "model.load_weights(filepath)\n",
    "model.summary()\n",
    "# Initialize generator\n",
    "testing_generator = DataGenerator('LRbicx' + str(r), batch_size = 1, dictionary = \"test\")"
   ]
  },
  {
   "cell_type": "code",
   "execution_count": null,
   "metadata": {},
   "outputs": [],
   "source": [
    "# Generate pair and super-resolve LR image\n",
    "lr, hr = testing_generator.__getitem__(random.randint(0,729))\n",
    "sr = model.predict(lr)\n",
    "# Show LR, SR, and HR images side-by-side\n",
    "fig = plt.figure()\n",
    "fig.set_size_inches(28, 28)\n",
    "ax1 = fig.add_subplot(1,3,1)\n",
    "ax1.set_title('Low Resolution (LR): ' + str(lr[0].shape[0]) + ' x ' + str(lr[0].shape[1]) + ' pixels')\n",
    "ax1.imshow(lr[0])\n",
    "ax2 = fig.add_subplot(1,3,2)\n",
    "ax2.set_title('Super Resolution (SR): ' + str(sr[0].shape[0]) + ' x ' + str(sr[0].shape[1]) + ' pixels')\n",
    "ax2.imshow(sr[0])\n",
    "ax3 = fig.add_subplot(1,3,3)\n",
    "ax3.set_title('High Resolution (HR): ' + str(hr[0].shape[0]) + ' x ' + str(hr[0].shape[1]) + ' pixels')\n",
    "ax3.imshow(hr[0])\n",
    "plt.show()\n",
    "# Calculate PSNR\n",
    "print(\"PSNR: \" + str(psnr(sr[0], hr[0])))"
   ]
  },
  {
   "cell_type": "code",
   "execution_count": null,
   "metadata": {
    "colab": {
     "base_uri": "https://localhost:8080/"
    },
    "id": "MoV1XDHDXuOq",
    "outputId": "937db9e8-b011-4e1c-ad17-71f55b38e148"
   },
   "outputs": [],
   "source": [
    "# Calculate Average PSNR\n",
    "benchmark(weights_filename, r, 'True')"
   ]
  }
 ],
 "metadata": {
  "kernelspec": {
   "display_name": "Python 3",
   "language": "python",
   "name": "python3"
  },
  "language_info": {
   "codemirror_mode": {
    "name": "ipython",
    "version": 3
   },
   "file_extension": ".py",
   "mimetype": "text/x-python",
   "name": "python",
   "nbconvert_exporter": "python",
   "pygments_lexer": "ipython3",
   "version": "3.6.12"
  }
 },
 "nbformat": 4,
 "nbformat_minor": 4
}
